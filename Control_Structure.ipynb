{
  "nbformat": 4,
  "nbformat_minor": 0,
  "metadata": {
    "colab": {
      "name": "Control Structure.ipynb",
      "provenance": [],
      "authorship_tag": "ABX9TyN4vdPahyDHtgCeVfvagdqk",
      "include_colab_link": true
    },
    "kernelspec": {
      "name": "python3",
      "display_name": "Python 3"
    },
    "language_info": {
      "name": "python"
    }
  },
  "cells": [
    {
      "cell_type": "markdown",
      "metadata": {
        "id": "view-in-github",
        "colab_type": "text"
      },
      "source": [
        "<a href=\"https://colab.research.google.com/github/MichaelPablo8261/CPEN-21A-ECE-2-2/blob/main/Control_Structure.ipynb\" target=\"_parent\"><img src=\"https://colab.research.google.com/assets/colab-badge.svg\" alt=\"Open In Colab\"/></a>"
      ]
    },
    {
      "cell_type": "markdown",
      "metadata": {
        "id": "KJj1kWTGBHC9"
      },
      "source": [
        "Pablo, Michael M.\n",
        "BSECE 2-2"
      ]
    },
    {
      "cell_type": "markdown",
      "metadata": {
        "id": "wjJ9zwJ6xUZE"
      },
      "source": [
        "## If statement "
      ]
    },
    {
      "cell_type": "code",
      "metadata": {
        "colab": {
          "base_uri": "https://localhost:8080/"
        },
        "id": "0f7ga4MCve8C",
        "outputId": "95a508a8-ab67-4185-9743-c73799b83c2d"
      },
      "source": [
        "a=12\n",
        "b=100\n",
        "if b>a:\n",
        "  print(\"b is greater than a\")"
      ],
      "execution_count": 1,
      "outputs": [
        {
          "output_type": "stream",
          "name": "stdout",
          "text": [
            "b is greater than a\n"
          ]
        }
      ]
    },
    {
      "cell_type": "markdown",
      "metadata": {
        "id": "tlRQ6uLZyiD8"
      },
      "source": [
        "## Elif Statement"
      ]
    },
    {
      "cell_type": "code",
      "metadata": {
        "colab": {
          "base_uri": "https://localhost:8080/"
        },
        "id": "4UJ8aosjyk5s",
        "outputId": "8230da73-ca05-4e81-d6bc-bcc4a9bd14e7"
      },
      "source": [
        "a=12\n",
        "b=100\n",
        "if b<a:\n",
        "  print(\"b is less than a\")\n",
        "elif b>a:\n",
        "  print(\"b is greater tha a\")  "
      ],
      "execution_count": 3,
      "outputs": [
        {
          "output_type": "stream",
          "name": "stdout",
          "text": [
            "b is greater tha a\n"
          ]
        }
      ]
    },
    {
      "cell_type": "markdown",
      "metadata": {
        "id": "C36MZ_y1zBAg"
      },
      "source": [
        "##Else Statment"
      ]
    },
    {
      "cell_type": "code",
      "metadata": {
        "colab": {
          "base_uri": "https://localhost:8080/"
        },
        "id": "5twQGmnozEEd",
        "outputId": "65893164-8ebc-4070-fcb3-a773d3d60e4a"
      },
      "source": [
        "a=12\n",
        "b=12\n",
        "if b<a:\n",
        "  print(\"b is less than a\")\n",
        "elif b>a:\n",
        "  print(\"b is greater tha a\")\n",
        "else:\n",
        "  print(\"a is equal to b\")  "
      ],
      "execution_count": 4,
      "outputs": [
        {
          "output_type": "stream",
          "name": "stdout",
          "text": [
            "a is equal to b\n"
          ]
        }
      ]
    },
    {
      "cell_type": "markdown",
      "metadata": {
        "id": "GUv1wL1vzvxg"
      },
      "source": [
        "## Short Hand If...Else"
      ]
    },
    {
      "cell_type": "code",
      "metadata": {
        "colab": {
          "base_uri": "https://localhost:8080/"
        },
        "id": "4KoWN1F_z9tA",
        "outputId": "d6d031c9-7e1d-40f9-81fc-40b142196d5b"
      },
      "source": [
        "a= 420\n",
        "b=330\n",
        "print(\"A\")if a>b else print(\"B\")"
      ],
      "execution_count": 10,
      "outputs": [
        {
          "output_type": "stream",
          "name": "stdout",
          "text": [
            "A\n"
          ]
        }
      ]
    },
    {
      "cell_type": "markdown",
      "metadata": {
        "id": "8RnxlZQB1I32"
      },
      "source": [
        "## And condition"
      ]
    },
    {
      "cell_type": "code",
      "metadata": {
        "colab": {
          "base_uri": "https://localhost:8080/"
        },
        "id": "CdyXZQG91Mt0",
        "outputId": "80319e41-bd0b-4a9b-c6b1-b05590763b7f"
      },
      "source": [
        "a=200\n",
        "b=33\n",
        "c=500\n",
        "if a>b and a<c:\n",
        "  print(\"Both conditions are True\")"
      ],
      "execution_count": 15,
      "outputs": [
        {
          "output_type": "stream",
          "name": "stdout",
          "text": [
            "Both conditions are True\n"
          ]
        }
      ]
    },
    {
      "cell_type": "markdown",
      "metadata": {
        "id": "LQRLdxlK2EB_"
      },
      "source": [
        "## Or Condition"
      ]
    },
    {
      "cell_type": "code",
      "metadata": {
        "colab": {
          "base_uri": "https://localhost:8080/"
        },
        "id": "ig3Pg4Ee2GIZ",
        "outputId": "a125dbd3-46b2-48c7-88f4-f0bbeef23418"
      },
      "source": [
        "a=200\n",
        "b=33\n",
        "c=500\n",
        "if a>b or a<b:\n",
        "  print(\"One of the conditions is True\")"
      ],
      "execution_count": 21,
      "outputs": [
        {
          "output_type": "stream",
          "name": "stdout",
          "text": [
            "One of the conditions is True\n"
          ]
        }
      ]
    },
    {
      "cell_type": "markdown",
      "metadata": {
        "id": "aycys70820oP"
      },
      "source": [
        "##Nested if"
      ]
    },
    {
      "cell_type": "code",
      "metadata": {
        "colab": {
          "base_uri": "https://localhost:8080/"
        },
        "id": "VGY982lm2201",
        "outputId": "98858ec8-0ede-46b1-d899-43c319f3ed63"
      },
      "source": [
        "x=11\n",
        "if x>10:\n",
        "  print(\"Above 10\")\n",
        "else:\n",
        "  print(\"but not above 10\")\n",
        "if x>20:\n",
        "  print(\"and also above 20!\")\n",
        "else:\n",
        "  print(\"but not above 20\")"
      ],
      "execution_count": 24,
      "outputs": [
        {
          "output_type": "stream",
          "name": "stdout",
          "text": [
            "Above 10\n",
            "but not above 20\n"
          ]
        }
      ]
    },
    {
      "cell_type": "markdown",
      "metadata": {
        "id": "6RT63SwF4Oz1"
      },
      "source": [
        "##Nested if...Else"
      ]
    },
    {
      "cell_type": "code",
      "metadata": {
        "colab": {
          "base_uri": "https://localhost:8080/"
        },
        "id": "zyQthYpU4SFA",
        "outputId": "64ee4ecb-3900-4502-c066-eeaae640fced"
      },
      "source": [
        "x=41\n",
        "if x>10:\n",
        "  print(\"Above 10\")\n",
        "if x>20:\n",
        "  print(\"and also above 20!\")\n",
        "else:\n",
        "  print(\"Below 10\")"
      ],
      "execution_count": 25,
      "outputs": [
        {
          "output_type": "stream",
          "name": "stdout",
          "text": [
            "Above 10\n",
            "and also above 20!\n"
          ]
        }
      ]
    },
    {
      "cell_type": "markdown",
      "metadata": {
        "id": "ZkdlaQ4040iZ"
      },
      "source": [
        "##Example 1\n",
        "Write a program that determines if the input age is qualified to vote or not. the qualifying age is 18 old and above"
      ]
    },
    {
      "cell_type": "code",
      "metadata": {
        "colab": {
          "base_uri": "https://localhost:8080/"
        },
        "id": "7AHSdc_k42RA",
        "outputId": "5d1961df-109b-4059-b1e8-7f96083915c5"
      },
      "source": [
        "x=9\n",
        "print(\" You are qualified to vote\")if x>=18 else print(\"You are not qualified to vote\")\n",
        "x=18\n",
        "print(\"You are qualified to vote\")if x>=18 else print(\"uYou are not qualified to vote\")\n",
        "x=20\n",
        "print(\"You are qualified to vote\")if x>=18 else print(\"You are not qualified to vote\")\n"
      ],
      "execution_count": 41,
      "outputs": [
        {
          "output_type": "stream",
          "name": "stdout",
          "text": [
            "unqualified to vote\n",
            "qualified to vote\n",
            "qualified to vote\n"
          ]
        }
      ]
    },
    {
      "cell_type": "markdown",
      "metadata": {
        "id": "OBotrnV_7jSQ"
      },
      "source": [
        "##Example 2\n",
        "Write a program that determines if the input number is Positive or Negative. Consider 0 as positive(Considering that it contains no negative sign)."
      ]
    },
    {
      "cell_type": "code",
      "metadata": {
        "colab": {
          "base_uri": "https://localhost:8080/"
        },
        "id": "_mCdCgMM73xo",
        "outputId": "57660f7e-fbe8-49ea-91c9-182dadf9edda"
      },
      "source": [
        "number= int(input(\"Enter a number \"))\n",
        "if number >0:\n",
        "  print(\"You entered a positive number\")\n",
        "elif number ==0:\n",
        "  print(\"You entered zero\")\n",
        "else:\n",
        "  print(\"You entered a negative number\")\n"
      ],
      "execution_count": 46,
      "outputs": [
        {
          "output_type": "stream",
          "name": "stdout",
          "text": [
            "Enter a number 0\n",
            "You entered zero\n"
          ]
        }
      ]
    },
    {
      "cell_type": "markdown",
      "metadata": {
        "id": "f1e-NQis-M0Z"
      },
      "source": [
        "##Example 3\n",
        "Write a program to determine if the grades are:\n",
        "if:\n",
        "grade>=75,\"Passed\"\n",
        "grade= 74,\"Remedial\"\n",
        "grade<74, \"Failed\""
      ]
    },
    {
      "cell_type": "code",
      "metadata": {
        "colab": {
          "base_uri": "https://localhost:8080/"
        },
        "id": "RZZ1jy5p-2r6",
        "outputId": "dab99ef9-4d54-4ce1-f46f-cf70f947ca1f"
      },
      "source": [
        "number= int(input(\"Grade: \"))\n",
        "if number >=75:\n",
        "  print(\"Passed\")\n",
        "elif number ==74:\n",
        "  print(\"Remedial\")\n",
        "else:\n",
        "  print(\"Failed\")\n",
        "\n",
        "number= int(input(\"Grade: \"))\n",
        "if number >=75:\n",
        "  print(\"Passed\")\n",
        "elif number ==74:\n",
        "  print(\"Remedial\")\n",
        "else:\n",
        "  print(\"Failed\")\n",
        "\n",
        "number= int(input(\"Grade: \"))\n",
        "if number >=75:\n",
        "  print(\"Passed\")\n",
        "elif number ==74:\n",
        "  print(\"Remedial\")\n",
        "else:\n",
        "  print(\"Failed\")"
      ],
      "execution_count": 51,
      "outputs": [
        {
          "output_type": "stream",
          "name": "stdout",
          "text": [
            "Grade: 75\n",
            "Passed\n",
            "Grade: 74\n",
            "Remedial\n",
            "Grade: 73\n",
            "Failed\n"
          ]
        }
      ]
    }
  ]
}