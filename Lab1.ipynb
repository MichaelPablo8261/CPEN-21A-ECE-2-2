{
  "nbformat": 4,
  "nbformat_minor": 0,
  "metadata": {
    "colab": {
      "name": "Lab1.ipynb",
      "provenance": [],
      "authorship_tag": "ABX9TyMU6HNgP5vFE/XzK7qdp7gh",
      "include_colab_link": true
    },
    "kernelspec": {
      "name": "python3",
      "display_name": "Python 3"
    },
    "language_info": {
      "name": "python"
    }
  },
  "cells": [
    {
      "cell_type": "markdown",
      "metadata": {
        "id": "view-in-github",
        "colab_type": "text"
      },
      "source": [
        "<a href=\"https://colab.research.google.com/github/MichaelPablo8261/CPEN-21A-ECE-2-2/blob/main/Lab1.ipynb\" target=\"_parent\"><img src=\"https://colab.research.google.com/assets/colab-badge.svg\" alt=\"Open In Colab\"/></a>"
      ]
    },
    {
      "cell_type": "markdown",
      "metadata": {
        "id": "eFOTQQC9dICw"
      },
      "source": [
        "## Laboratory 1"
      ]
    },
    {
      "cell_type": "code",
      "metadata": {
        "colab": {
          "base_uri": "https://localhost:8080/"
        },
        "id": "Av7Zoiu6eid4",
        "outputId": "d7523386-912d-47af-bd51-263c69a24fbe"
      },
      "source": [
        "print(\"Welcome to Python Programming\")"
      ],
      "execution_count": 2,
      "outputs": [
        {
          "output_type": "stream",
          "name": "stdout",
          "text": [
            "Welcome to Python Programming\n"
          ]
        }
      ]
    },
    {
      "cell_type": "code",
      "metadata": {
        "id": "uiLYZFBNoSpz"
      },
      "source": [
        ""
      ],
      "execution_count": null,
      "outputs": []
    },
    {
      "cell_type": "code",
      "metadata": {
        "colab": {
          "base_uri": "https://localhost:8080/"
        },
        "id": "vGu7UFhlgJDS",
        "outputId": "e37f1d72-7759-4510-a847-ee69e2b66176"
      },
      "source": [
        "name=input(\" Name: \")\n",
        "address=input(\" Address: \")\n",
        "age=input(\" Age: \")\n",
        "print(\" So, you're \" + name + \", and you are \" + age + \" yrs old, that lives in \" + address )\n"
      ],
      "execution_count": 42,
      "outputs": [
        {
          "output_type": "stream",
          "name": "stdout",
          "text": [
            " Name: Michael Pablo\n",
            " Address: Solar Homes, Dasmariñas City, Cavite\n",
            " Age: 20\n",
            " So, you're Michael Pablo, and you are 20 yrs old, that lives in Solar Homes, Dasmariñas City, Cavite\n"
          ]
        }
      ]
    }
  ]
}