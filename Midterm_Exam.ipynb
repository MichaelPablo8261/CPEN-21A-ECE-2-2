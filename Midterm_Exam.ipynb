{
  "nbformat": 4,
  "nbformat_minor": 0,
  "metadata": {
    "colab": {
      "name": "Midterm Exam.ipynb",
      "provenance": [],
      "authorship_tag": "ABX9TyP04mTpRPpa2BFR9DldSTn/",
      "include_colab_link": true
    },
    "kernelspec": {
      "name": "python3",
      "display_name": "Python 3"
    },
    "language_info": {
      "name": "python"
    }
  },
  "cells": [
    {
      "cell_type": "markdown",
      "metadata": {
        "id": "view-in-github",
        "colab_type": "text"
      },
      "source": [
        "<a href=\"https://colab.research.google.com/github/MichaelPablo8261/CPEN-21A-ECE-2-2/blob/main/Midterm_Exam.ipynb\" target=\"_parent\"><img src=\"https://colab.research.google.com/assets/colab-badge.svg\" alt=\"Open In Colab\"/></a>"
      ]
    },
    {
      "cell_type": "markdown",
      "metadata": {
        "id": "sf1-ANFhrjTq"
      },
      "source": [
        "##Midterm Exam"
      ]
    },
    {
      "cell_type": "markdown",
      "metadata": {
        "id": "llwCcHAGvdDz"
      },
      "source": [
        "###Problem Statement No.1"
      ]
    },
    {
      "cell_type": "code",
      "metadata": {
        "colab": {
          "base_uri": "https://localhost:8080/"
        },
        "id": "ZBMKaADbrmwj",
        "outputId": "62290093-1564-476f-fa00-97c21fb47f79"
      },
      "source": [
        "a=input(\" Full name: \")\n",
        "b=input(\" Student Number: \")\n",
        "c=input(\" Age \")\n",
        "d=input(\" Birthday \")\n",
        "e=input(\" Address \")\n",
        "f=input(\" Course \")\n",
        "g=input(\" Last Sem GWA: \")\n",
        "\n",
        "\n",
        "\n"
      ],
      "execution_count": 11,
      "outputs": [
        {
          "name": "stdout",
          "output_type": "stream",
          "text": [
            " Full name: Pablo, Michael M.\n",
            " Student Number: 202013962\n",
            " Age 20 years old\n",
            " Birthday August 26,2001\n",
            " Address Blk3 Lot 28, Solarhomes, Dasmariñas City, Cavite\n",
            " Course BSECE\n",
            " Last Sem GWA: 1.42\n"
          ]
        }
      ]
    },
    {
      "cell_type": "markdown",
      "metadata": {
        "id": "DB2AxD3rvkyG"
      },
      "source": [
        "###Problem Statment No.2"
      ]
    },
    {
      "cell_type": "code",
      "metadata": {
        "colab": {
          "base_uri": "https://localhost:8080/"
        },
        "id": "hYUT_KxjvTy5",
        "outputId": "033761d1-61eb-4f97-ab61-15d9538dd19c"
      },
      "source": [
        "n=4\n",
        "answ=\"Y\"\n",
        "a=2<n and n<6\n",
        "print(a)\n",
        "b=2<n or n==6\n",
        "print(b)\n",
        "c=not (2<n and n)\n",
        "print(c)\n",
        "d=not(n<6)\n",
        "print(d)\n",
        "e=(answ==\"Y\"  or answ==\"y\")\n",
        "print(e)\n",
        "f=(answ==\"Y\" and answ==\"y\")\n",
        "print(f)\n",
        "g= not (answ==\"y\")\n",
        "print(g)\n",
        "h=(2<n and n==5+1 or answ==\"No\")\n",
        "print(h)\n",
        "i=(n==2 and n==7 or answ==\"Y\")\n",
        "print(i)\n",
        "j=(n==2 and n==7 or answ==\"Y\")\n",
        "print(j)"
      ],
      "execution_count": 74,
      "outputs": [
        {
          "output_type": "stream",
          "name": "stdout",
          "text": [
            "True\n",
            "True\n",
            "False\n",
            "False\n",
            "True\n",
            "False\n",
            "True\n",
            "False\n",
            "True\n",
            "True\n"
          ]
        }
      ]
    },
    {
      "cell_type": "markdown",
      "metadata": {
        "id": "T-d_McL4zgSA"
      },
      "source": [
        "###Problem Statement No.3"
      ]
    },
    {
      "cell_type": "code",
      "metadata": {
        "colab": {
          "base_uri": "https://localhost:8080/"
        },
        "id": "dG1mzI_UzdLq",
        "outputId": "132af4cf-8943-4f06-e9ff-23c23c3b48be"
      },
      "source": [
        "a=x/y\n",
        "b=w/y/x\n",
        "c=z/y%x\t\n",
        "d=x%-y*w\n",
        "e=x%y\n",
        "f=z%w-y/x*5+5\n",
        "g=9-x%(2+y)\n",
        "h=z//w\n",
        "i=(2+y)**2\n",
        "j=w/x*2\n",
        "print(a)\n",
        "print(b)\n",
        "print(c)\n",
        "print(d)\n",
        "print(e)\n",
        "print(f)\n",
        "print(g)\n",
        "print(h)\n",
        "print(i)\n",
        "print(j)"
      ],
      "execution_count": 21,
      "outputs": [
        {
          "output_type": "stream",
          "name": "stdout",
          "text": [
            "-0.6666666666666666\n",
            "-1.1666666666666667\n",
            "1.3333333333333335\n",
            "14\n",
            "-1\n",
            "16.5\n",
            "9\n",
            "-2\n",
            "1\n",
            "7.0\n"
          ]
        }
      ]
    }
  ]
}