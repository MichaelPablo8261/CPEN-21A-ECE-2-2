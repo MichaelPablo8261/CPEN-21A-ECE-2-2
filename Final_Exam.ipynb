{
  "nbformat": 4,
  "nbformat_minor": 0,
  "metadata": {
    "colab": {
      "name": "Final Exam.ipynb",
      "provenance": [],
      "authorship_tag": "ABX9TyMUGRpyQTHayzZ1+h732wE6",
      "include_colab_link": true
    },
    "kernelspec": {
      "name": "python3",
      "display_name": "Python 3"
    },
    "language_info": {
      "name": "python"
    }
  },
  "cells": [
    {
      "cell_type": "markdown",
      "metadata": {
        "id": "view-in-github",
        "colab_type": "text"
      },
      "source": [
        "<a href=\"https://colab.research.google.com/github/MichaelPablo8261/CPEN-21A-ECE-2-2/blob/main/Final_Exam.ipynb\" target=\"_parent\"><img src=\"https://colab.research.google.com/assets/colab-badge.svg\" alt=\"Open In Colab\"/></a>"
      ]
    },
    {
      "cell_type": "markdown",
      "source": [
        "###Pablo, Michael M.\n",
        "###BSECE 2-2\n",
        "###\"Final Exam\""
      ],
      "metadata": {
        "id": "kzLynqpdYY7V"
      }
    },
    {
      "cell_type": "markdown",
      "source": [
        "PROBLEM STATEMENT 1. Create a Python program that will produce an output of sum of 10 numbers less than 5 using FOR LOOP statement."
      ],
      "metadata": {
        "id": "lxJiOxzBYkEJ"
      }
    },
    {
      "cell_type": "code",
      "source": [
        "y=0\n",
        "lst = []\n",
        "for x in range (10):\n",
        "  x=float(input(\"  Number:  \"))\n",
        "  list.append(x)\n",
        "  y+=x\n",
        "print(y)\n",
        "if y<=5:\n",
        "  print(\"The sum of 10 numbers are less than 5\")\n",
        "else:\n",
        "  print(\"The sum of 10 numbers are greater than 5\")"
      ],
      "metadata": {
        "colab": {
          "base_uri": "https://localhost:8080/"
        },
        "id": "VSEoLs-bXaSB",
        "outputId": "f85eb196-aa65-4f4c-a4c1-9f43ca75e3cf"
      },
      "execution_count": 15,
      "outputs": [
        {
          "output_type": "stream",
          "name": "stdout",
          "text": [
            "  Number:  10\n",
            "  Number:  .5\n",
            "  Number:  65\n",
            "  Number:  30\n",
            "  Number:  50\n",
            "  Number:  90\n",
            "  Number:  63\n",
            "  Number:  1\n",
            "  Number:  2\n",
            "  Number:  1\n",
            "312.5\n",
            "The sum of 10 numbers are greater than 5\n"
          ]
        }
      ]
    },
    {
      "cell_type": "markdown",
      "source": [
        "PROBLEM STATEMENT 2. \n",
        "\tCreate a Python program that will produce accept five numbers and determine the sum of first and last number among the five numbers entered using WHILE LOOP.  \n"
      ],
      "metadata": {
        "id": "wMdQz6PQYsHY"
      }
    },
    {
      "cell_type": "code",
      "execution_count": 22,
      "metadata": {
        "colab": {
          "base_uri": "https://localhost:8080/"
        },
        "id": "FE8vSCOPymTE",
        "outputId": "e7847325-3b67-477c-a057-4834234c88fc"
      },
      "outputs": [
        {
          "output_type": "stream",
          "name": "stdout",
          "text": [
            " Numbers: 50\n",
            " Numbers: 6.5\n",
            " Numbers: 3.5\n",
            " Numbers: 90\n",
            " Numbers: 56\n",
            "Sum of First and Last Number:  106.0\n"
          ]
        }
      ],
      "source": [
        "numbers = []\n",
        "size = 5\n",
        "trace = 0\n",
        "x = 0\n",
        "\n",
        "for i in range(size):\n",
        "    numbers.append(float(input(\" Numbers: \")))\n",
        "    \n",
        "while trace <= (size - 1):\n",
        "    if trace == 0 or trace == 4:\n",
        "        x += numbers[trace]\n",
        "    \n",
        "    trace += 1\n",
        "    \n",
        "print(\"Sum of First and Last Number: \",x)"
      ]
    },
    {
      "cell_type": "markdown",
      "source": [
        "PROBLEM STATEMENT 3. \n",
        "\tCreate a Python program to calculate student grades. It accepts a numerical grade as input and it will display the character grade as output based on the given scale: (Use Nested-IF-Else statement).\n"
      ],
      "metadata": {
        "id": "qSIzw3ZRYvAk"
      }
    },
    {
      "cell_type": "code",
      "source": [
        "n=input(\"Name: \")\n",
        "print(\"GWA of the Student:\")\n",
        "a=int(input(\"number of subjects: \"))\n",
        "y=0\n",
        "list = []\n",
        "for b in range (a):\n",
        "  b=int(input(\" grades:  \"))\n",
        "  list.append(b)\n",
        "  y+=b\n",
        "ave=y/a\n",
        "g=\"GWA:\"\n",
        "print(g,int(ave))\n",
        "if ave>=90:\n",
        "  print(\"Your grade is A\")\n",
        "else:\n",
        "    if ave>=80 and ave<=89:\n",
        "      print(\"Your grade is B\")\n",
        "    else:\n",
        "        if ave>=70 and ave<=79:\n",
        "           print(\"Your grade is C\")\n",
        "        else:\n",
        "            if ave>=60 and ave<=69:\n",
        "               print(\"Your grade is D\")\n",
        "            else:\n",
        "              print(\"Your grade is F\")"
      ],
      "metadata": {
        "colab": {
          "base_uri": "https://localhost:8080/"
        },
        "id": "N_60GT9uUotv",
        "outputId": "2832d424-a517-4475-d843-def113d32cd7"
      },
      "execution_count": 24,
      "outputs": [
        {
          "output_type": "stream",
          "name": "stdout",
          "text": [
            "Name: Michael\n",
            "GWA of the Student:\n",
            "number of subjects: 5\n",
            " grades:  90\n",
            " grades:  65\n",
            " grades:  87\n",
            " grades:  70\n",
            " grades:  90\n",
            "GWA: 80\n",
            "Your grade is B\n"
          ]
        }
      ]
    }
  ]
}